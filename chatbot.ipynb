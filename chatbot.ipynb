{
  "nbformat": 4,
  "nbformat_minor": 0,
  "metadata": {
    "colab": {
      "provenance": [],
      "authorship_tag": "ABX9TyP1xvrY3kbmtfRSXQX9ma/w",
      "include_colab_link": true
    },
    "kernelspec": {
      "name": "python3",
      "display_name": "Python 3"
    },
    "language_info": {
      "name": "python"
    }
  },
  "cells": [
    {
      "cell_type": "markdown",
      "metadata": {
        "id": "view-in-github",
        "colab_type": "text"
      },
      "source": [
        "<a href=\"https://colab.research.google.com/github/brunomeirellessousa/chatbotGemini/blob/main/chatbot.ipynb\" target=\"_parent\"><img src=\"https://colab.research.google.com/assets/colab-badge.svg\" alt=\"Open In Colab\"/></a>"
      ]
    },
    {
      "cell_type": "markdown",
      "source": [
        "\n"
      ],
      "metadata": {
        "id": "ZpSUK8UVJJmA"
      }
    },
    {
      "cell_type": "code",
      "execution_count": 1,
      "metadata": {
        "id": "R98X-6veJFC3"
      },
      "outputs": [],
      "source": [
        "!pip install -q -U google-generativeai\n",
        "\n",
        "# Import the Python SDK\n",
        "import google.generativeai as genai\n",
        "from google.colab import userdata\n",
        "\n",
        "api_key = userdata.get('SECRET_KEY')\n",
        "\n",
        "genai.configure(api_key=api_key)\n"
      ]
    },
    {
      "cell_type": "code",
      "source": [
        "for m in genai.list_models():\n",
        "  if 'generateContent' in m.supported_generation_methods:\n",
        "    print(m.name)"
      ],
      "metadata": {
        "colab": {
          "base_uri": "https://localhost:8080/",
          "height": 139
        },
        "id": "yc5PkBiGUQI1",
        "outputId": "a3a7bfe5-dcab-4f4e-eb38-05a7c45083a1"
      },
      "execution_count": 2,
      "outputs": [
        {
          "output_type": "stream",
          "name": "stdout",
          "text": [
            "models/gemini-1.0-pro\n",
            "models/gemini-1.0-pro-001\n",
            "models/gemini-1.0-pro-latest\n",
            "models/gemini-1.0-pro-vision-latest\n",
            "models/gemini-1.5-pro-latest\n",
            "models/gemini-pro\n",
            "models/gemini-pro-vision\n"
          ]
        }
      ]
    },
    {
      "cell_type": "code",
      "source": [
        "generation_config = {\n",
        "    \"candidate_count\": 1,\n",
        "    \"temperature\":0.5,\n",
        "    #\"top_p\":\n",
        "}\n",
        "\n",
        "safety_settings = {\n",
        "    \"HARASSMENT\": \"BLOCK_NONE\",\n",
        "    \"HATE\": \"BLOCK_NONE\",\n",
        "    \"SEXUAL\": \"BLOCK_NONE\",\n",
        "    \"DANGEROUS\": \"BLOCK_NONE\",\n",
        "}"
      ],
      "metadata": {
        "id": "y3OX98XEU-H1"
      },
      "execution_count": 3,
      "outputs": []
    },
    {
      "cell_type": "code",
      "source": [
        "# INICIANDO O MODELO\n",
        "model = genai.GenerativeModel(model_name='gemini-1.0-pro',\n",
        "                              generation_config=generation_config,\n",
        "                              safety_settings=safety_settings)"
      ],
      "metadata": {
        "id": "RSlac_Y4lb8T"
      },
      "execution_count": 4,
      "outputs": []
    },
    {
      "cell_type": "code",
      "source": [
        "# question = input('Qual é sua pergunta? ')"
      ],
      "metadata": {
        "colab": {
          "base_uri": "https://localhost:8080/",
          "height": 0
        },
        "id": "mrVaNJolMXOg",
        "outputId": "f36f39c9-5326-4afd-b355-8dd8111bd850"
      },
      "execution_count": 3,
      "outputs": [
        {
          "name": "stdout",
          "output_type": "stream",
          "text": [
            "Qual é sua pergunta? como ser mais legal comigo mesmo ?\n"
          ]
        }
      ]
    },
    {
      "cell_type": "code",
      "source": [
        "response = model.generate_content(question)\n",
        "print(response.text)"
      ],
      "metadata": {
        "colab": {
          "base_uri": "https://localhost:8080/",
          "height": 940
        },
        "collapsed": true,
        "id": "2kZE-2deM4le",
        "outputId": "f4c11808-cffd-4dcc-9a48-300a4fea44ef"
      },
      "execution_count": 25,
      "outputs": [
        {
          "output_type": "stream",
          "name": "stdout",
          "text": [
            "**Pratique a autocompaixão:**\n",
            "\n",
            "* Trate-se com a mesma gentileza e compreensão que você daria a um amigo.\n",
            "* Reconheça que todos cometem erros e que você não é perfeito.\n",
            "* Seja paciente consigo mesmo e permita-se tempo para crescer e melhorar.\n",
            "\n",
            "**Pratique a autoaceitação:**\n",
            "\n",
            "* Aceite-se como você é, com todas as suas qualidades e falhas.\n",
            "* Aprenda a apreciar suas qualidades únicas e a trabalhar em suas áreas de crescimento.\n",
            "* Não se compare aos outros e concentre-se em sua própria jornada.\n",
            "\n",
            "**Estabeleça limites saudáveis:**\n",
            "\n",
            "* Aprenda a dizer não às coisas que não lhe servem.\n",
            "* Proteja seu tempo e energia e priorize as coisas que são importantes para você.\n",
            "* Não permita que os outros o tratem mal ou o desrespeitem.\n",
            "\n",
            "**Cuide de sua saúde física e mental:**\n",
            "\n",
            "* Durma o suficiente, alimente-se de forma saudável e exercite-se regularmente.\n",
            "* Pratique técnicas de gerenciamento de estresse, como meditação ou ioga.\n",
            "* Procure ajuda profissional se estiver lutando com problemas de saúde mental.\n",
            "\n",
            "**Cerque-se de pessoas positivas:**\n",
            "\n",
            "* Passe tempo com pessoas que o apoiam, encorajam e o fazem se sentir bem consigo mesmo.\n",
            "* Limite o contato com pessoas que são negativas ou críticas.\n",
            "\n",
            "**Pratique a gratidão:**\n",
            "\n",
            "* Concentre-se nas coisas boas de sua vida, grandes e pequenas.\n",
            "* Expresse gratidão por si mesmo e por tudo o que você tem.\n",
            "* A gratidão pode ajudá-lo a apreciar o que você tem e a se sentir mais positivo consigo mesmo.\n",
            "\n",
            "**Estabeleça metas realistas:**\n",
            "\n",
            "* Estabeleça metas que sejam desafiadoras, mas alcançáveis.\n",
            "* Divida grandes metas em etapas menores e comemore seus sucessos ao longo do caminho.\n",
            "* Não desanime se não atingir uma meta imediatamente; aprenda com seus erros e continue tentando.\n",
            "\n",
            "**Pratique o autocuidado:**\n",
            "\n",
            "* Reserve um tempo para atividades que o façam feliz e relaxado.\n",
            "* Faça coisas que o nutram física, emocional e espiritualmente.\n",
            "* Não tenha medo de pedir ajuda quando precisar.\n",
            "\n",
            "**Lembre-se:**\n",
            "\n",
            "* Ser mais legal consigo mesmo é uma jornada, não um destino.\n",
            "* Haverá altos e baixos ao longo do caminho.\n",
            "* Seja paciente e persistente, e você acabará desenvolvendo uma relação mais positiva e compassiva consigo mesmo.\n"
          ]
        }
      ]
    },
    {
      "cell_type": "code",
      "source": [
        "chat = model.start_chat(history=[])"
      ],
      "metadata": {
        "id": "ra-Q_MJ4nStT"
      },
      "execution_count": 5,
      "outputs": []
    },
    {
      "cell_type": "code",
      "source": [
        "prompt = input('Qual é sua pergunta? ')\n",
        "\n",
        "\n",
        "while prompt != \"fim\":\n",
        "  response = chat.send_message(prompt)\n",
        "  print(\"Resposta: \", response.text, \"\\n\")\n",
        "  prompt = input('Qual é sua pergunta? ')"
      ],
      "metadata": {
        "colab": {
          "base_uri": "https://localhost:8080/",
          "height": 159
        },
        "id": "adM41xdnnxzr",
        "outputId": "d9bc90b8-8430-4e3d-d0be-667a6aeea876"
      },
      "execution_count": 6,
      "outputs": [
        {
          "name": "stdout",
          "output_type": "stream",
          "text": [
            "Qual é sua pergunta? OLÁ NOVAMENTE\n",
            "Resposta:  Olá novamente! Fico feliz em vê-lo novamente. Como posso ajudá-lo hoje? \n",
            "\n",
            "Qual é sua pergunta? COMO ESTÁ O TEMPO HOJE:\n",
            "Resposta:  Sinto muito, não tenho acesso a informações em tempo real, incluindo a previsão do tempo. Recomendo verificar um aplicativo de previsão do tempo ou site para obter as informações mais atualizadas. \n",
            "\n",
            "Qual é sua pergunta? fim\n"
          ]
        }
      ]
    }
  ]
}